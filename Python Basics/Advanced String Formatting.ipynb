{
 "cells": [
  {
   "cell_type": "code",
   "execution_count": 1,
   "id": "c3dd51e5",
   "metadata": {},
   "outputs": [
    {
     "name": "stdout",
     "output_type": "stream",
     "text": [
      "Hello world\n"
     ]
    }
   ],
   "source": [
    "print(\"Hello world\")"
   ]
  },
  {
   "cell_type": "code",
   "execution_count": 2,
   "id": "596881a5",
   "metadata": {},
   "outputs": [],
   "source": [
    "def greetings(name):\n",
    "    return \"Hello {}. Welcome to the community.\".format(name)"
   ]
  },
  {
   "cell_type": "code",
   "execution_count": 4,
   "id": "be8ef821",
   "metadata": {},
   "outputs": [
    {
     "data": {
      "text/plain": [
       "'Hello Argha. Welcome to the community.'"
      ]
     },
     "execution_count": 4,
     "metadata": {},
     "output_type": "execute_result"
    }
   ],
   "source": [
    "greetings('Argha')"
   ]
  },
  {
   "cell_type": "code",
   "execution_count": 5,
   "id": "f5dab59c",
   "metadata": {},
   "outputs": [],
   "source": [
    "def welcome_mail(name,age):\n",
    "    return \"Welcome {}. Your age is {}\".format(name,age)"
   ]
  },
  {
   "cell_type": "code",
   "execution_count": 6,
   "id": "72d0e7df",
   "metadata": {},
   "outputs": [
    {
     "data": {
      "text/plain": [
       "'Welcome Argha. Your age is 24'"
      ]
     },
     "execution_count": 6,
     "metadata": {},
     "output_type": "execute_result"
    }
   ],
   "source": [
    "welcome_mail(\"Argha\",24)"
   ]
  },
  {
   "cell_type": "code",
   "execution_count": 9,
   "id": "b4ec3b4b",
   "metadata": {},
   "outputs": [],
   "source": [
    "def welcome_mail(name,age):\n",
    "    return \"Welcome {}. Your age is {}\".format(age,name)"
   ]
  },
  {
   "cell_type": "code",
   "execution_count": 10,
   "id": "e80abb81",
   "metadata": {},
   "outputs": [
    {
     "data": {
      "text/plain": [
       "'Welcome 24. Your age is Argha'"
      ]
     },
     "execution_count": 10,
     "metadata": {},
     "output_type": "execute_result"
    }
   ],
   "source": [
    "welcome_mail(\"Argha\",24)"
   ]
  },
  {
   "cell_type": "code",
   "execution_count": 7,
   "id": "14a26425",
   "metadata": {},
   "outputs": [],
   "source": [
    "def welcome_mail(name,age):\n",
    "    return \"Welcome {name}. Your age is {age}\".format(age=age,name=name)"
   ]
  },
  {
   "cell_type": "code",
   "execution_count": 8,
   "id": "1371351f",
   "metadata": {},
   "outputs": [
    {
     "data": {
      "text/plain": [
       "'Welcome Argha. Your age is 24'"
      ]
     },
     "execution_count": 8,
     "metadata": {},
     "output_type": "execute_result"
    }
   ],
   "source": [
    "welcome_mail('Argha',24)"
   ]
  },
  {
   "cell_type": "code",
   "execution_count": null,
   "id": "4cb25f1f",
   "metadata": {},
   "outputs": [],
   "source": []
  }
 ],
 "metadata": {
  "kernelspec": {
   "display_name": "Python 3 (ipykernel)",
   "language": "python",
   "name": "python3"
  },
  "language_info": {
   "codemirror_mode": {
    "name": "ipython",
    "version": 3
   },
   "file_extension": ".py",
   "mimetype": "text/x-python",
   "name": "python",
   "nbconvert_exporter": "python",
   "pygments_lexer": "ipython3",
   "version": "3.9.12"
  }
 },
 "nbformat": 4,
 "nbformat_minor": 5
}
