{
 "cells": [
  {
   "cell_type": "code",
   "execution_count": 26,
   "id": "d49c4257",
   "metadata": {},
   "outputs": [
    {
     "name": "stdout",
     "output_type": "stream",
     "text": [
      "Enter a number: 121\n",
      "121 is a palindrome number\n"
     ]
    }
   ],
   "source": [
    "# Palindrome Number\n",
    "\n",
    "num = int(input(\"Enter a number: \"))\n",
    "temp = num\n",
    "reverse=0\n",
    "\n",
    "while(temp>0):\n",
    "    digit = temp % 10\n",
    "    reverse =  reverse * 10 + digit\n",
    "    temp = temp // 10\n",
    "    \n",
    "if(num == reverse):\n",
    "    print(f\"{num} is a palindrome number\")\n",
    "else:\n",
    "    print(f\"{num} is not a palindrome number\")\n",
    "    "
   ]
  },
  {
   "cell_type": "code",
   "execution_count": 1,
   "id": "65989283",
   "metadata": {},
   "outputs": [
    {
     "name": "stdout",
     "output_type": "stream",
     "text": [
      "Enter a number: 407\n",
      "407 is an Armstrong number\n"
     ]
    }
   ],
   "source": [
    "# Armstrong Number\n",
    "\n",
    "num =int(input(\"Enter a number: \"))\n",
    "temp = num\n",
    "total = 0\n",
    "order  = len(str(num))\n",
    "\n",
    "while(temp>0):\n",
    "    digit = temp % 10\n",
    "    total = total + digit ** order\n",
    "    temp = temp //10\n",
    "    \n",
    "if(total == num):\n",
    "    print(f\"{num} is an Armstrong number\")\n",
    "else:\n",
    "    print(f\"{num} is not an Armstrong number\")"
   ]
  },
  {
   "cell_type": "code",
   "execution_count": 15,
   "id": "5ef2a5b3",
   "metadata": {},
   "outputs": [
    {
     "name": "stdout",
     "output_type": "stream",
     "text": [
      "Enter a number -1\n",
      "Negative factorials does not exist.\n"
     ]
    }
   ],
   "source": [
    "# Factorial of a number\n",
    "\n",
    "def factorial(n):\n",
    "    if n < 0:\n",
    "        print(\"Negative factorials does not exist.\")\n",
    "    elif n==1 or n==0:\n",
    "        return 1\n",
    "    else:\n",
    "        fact = n * factorial(n-1)\n",
    "        return fact\n",
    "    \n",
    "num = int(input(\"Enter a number \"))\n",
    "result = factorial(num)\n",
    "if num < 0:\n",
    "    pass\n",
    "else:\n",
    "    print(f\"Factorial of {num} is {result}\")"
   ]
  },
  {
   "cell_type": "code",
   "execution_count": 11,
   "id": "e49f7af6",
   "metadata": {},
   "outputs": [
    {
     "name": "stdout",
     "output_type": "stream",
     "text": [
      "Enter a string: heloo\n",
      "Reverse of heloo is ooleh\n"
     ]
    }
   ],
   "source": [
    "# Reverse of a string using slice operator\n",
    "\n",
    "string = input(\"Enter a string: \")\n",
    "print(f\"Reverse of {string} is {string[::-1]}\")"
   ]
  },
  {
   "cell_type": "code",
   "execution_count": 13,
   "id": "b2c110d7",
   "metadata": {},
   "outputs": [
    {
     "name": "stdout",
     "output_type": "stream",
     "text": [
      "Enter a string: hello\n",
      "Reverse of hello is olleh\n"
     ]
    }
   ],
   "source": [
    "# Reverse of string using  for loop\n",
    "\n",
    "string = input(\"Enter a string: \")\n",
    "reverse_string =\"\"\n",
    "\n",
    "for i in string:\n",
    "    reverse_string = i + reverse_string\n",
    "\n",
    "print(f\"Reverse of {string} is {reverse_string}\")"
   ]
  },
  {
   "cell_type": "code",
   "execution_count": 17,
   "id": "e3fdd423",
   "metadata": {},
   "outputs": [
    {
     "name": "stdout",
     "output_type": "stream",
     "text": [
      "Enter a string: hello\n",
      "Reverse of hello is olleh\n"
     ]
    }
   ],
   "source": [
    "# Reverse of a string using while loop\n",
    "\n",
    "string = input(\"Enter a string: \")\n",
    "reverse_string = \"\"\n",
    "count = len(string)\n",
    "\n",
    "while(count>0):\n",
    "    reverse_string = reverse_string + string[count-1]\n",
    "    count = count - 1\n",
    "    \n",
    "print(f\"Reverse of {string} is {reverse_string}\")"
   ]
  },
  {
   "cell_type": "code",
   "execution_count": 21,
   "id": "f6dc7bde",
   "metadata": {},
   "outputs": [
    {
     "name": "stdout",
     "output_type": "stream",
     "text": [
      "Enter a number: 122\n",
      "Reverse of 122 is 221\n"
     ]
    }
   ],
   "source": [
    "# Reverse of a number\n",
    "\n",
    "num = int(input(\"Enter a number: \"))\n",
    "temp = num\n",
    "reverse = 0\n",
    "\n",
    "while(num>0):\n",
    "    digit = num % 10\n",
    "    reverse = reverse * 10 + digit\n",
    "    num = num//10\n",
    "print(f\"Reverse of {temp} is {reverse}\")"
   ]
  },
  {
   "cell_type": "code",
   "execution_count": 17,
   "id": "7d188761",
   "metadata": {},
   "outputs": [
    {
     "name": "stdout",
     "output_type": "stream",
     "text": [
      "Enter the number of terms: 2\n",
      "0\n",
      "1\n"
     ]
    }
   ],
   "source": [
    "# Fibonacci series using while loop\n",
    "\n",
    "no_of_terms = int(input(\"Enter the number of terms: \"))\n",
    "n1 = 0\n",
    "n2 = 1\n",
    "count = 0 \n",
    "if(no_of_terms < 0):\n",
    "    print(\"Please enter a Positive number\")\n",
    "else:\n",
    "    while(count < no_of_terms):\n",
    "        print(n1)\n",
    "        nth = n1 + n2\n",
    "        n1 = n2\n",
    "        n2 =  nth\n",
    "        count = count + 1\n",
    "\n"
   ]
  },
  {
   "cell_type": "code",
   "execution_count": 2,
   "id": "94deeb75",
   "metadata": {},
   "outputs": [
    {
     "name": "stdout",
     "output_type": "stream",
     "text": [
      "Enter the number of terms: 5\n",
      "0\n",
      "1\n",
      "1\n",
      "2\n",
      "3\n"
     ]
    }
   ],
   "source": [
    "# Fiboncacci series using recursion\n",
    "\n",
    "def fibonacci(n):\n",
    "    if n<=1:\n",
    "        return n\n",
    "    else:\n",
    "        fib = fibonacci(n-1) + fibonacci(n-2)\n",
    "        return fib\n",
    "\n",
    "n_terms = int(input(\"Enter the number of terms: \"))\n",
    "if(n_terms <= 0):\n",
    "    print(\"Enter a positive number.\")\n",
    "else:\n",
    "    for i in range(n_terms):\n",
    "        print(fibonacci(i))\n",
    "    "
   ]
  },
  {
   "cell_type": "code",
   "execution_count": 22,
   "id": "e32d0c15",
   "metadata": {},
   "outputs": [
    {
     "name": "stdout",
     "output_type": "stream",
     "text": [
      "['Apple', 'Mango', 'Jackfruit', 'Banana', 'Stawberry', 'Grapes', 'Watermelon', 'Chikoo']\n",
      "['Pineapple', 'Apple', 'Mango', 'Jackfruit', 'Banana', 'Stawberry', 'Grapes', 'Watermelon', 'Chikoo']\n",
      "['Pineapple', 'Apple', 'Mango', 'Jackfruit', 'Banana', 'Stawberry', 'Grapes', 'Chikoo']\n"
     ]
    },
    {
     "data": {
      "text/plain": [
       "['Apple',\n",
       " 'Banana',\n",
       " 'Chikoo',\n",
       " 'Grapes',\n",
       " 'Jackfruit',\n",
       " 'Mango',\n",
       " 'Pineapple',\n",
       " 'Stawberry']"
      ]
     },
     "execution_count": 22,
     "metadata": {},
     "output_type": "execute_result"
    }
   ],
   "source": [
    "# List\n",
    "\n",
    "lst = [\"Apple\",\"Mango\",\"Jackfruit\",\"Banana\",\"Stawberry\",\"Grapes\",\"Watermelon\"]\n",
    "lst.append(\"Chikoo\")\n",
    "print(lst)\n",
    "\n",
    "lst.insert(0,\"Pineapple\")\n",
    "print(lst)\n",
    "\n",
    "lst.remove(\"Watermelon\")\n",
    "print(lst)\n",
    "\n",
    "lst.count(\"Mango\")\n",
    "\n",
    "lst.index(\"Stawberry\")\n",
    "\n",
    "sorted(lst)"
   ]
  },
  {
   "cell_type": "code",
   "execution_count": 27,
   "id": "d9ec6892",
   "metadata": {},
   "outputs": [
    {
     "name": "stdout",
     "output_type": "stream",
     "text": [
      "Tuple count 2\n",
      "Tuple index 6\n"
     ]
    }
   ],
   "source": [
    "# Tuple\n",
    "\n",
    "tup = (7,8,4,6,2,5,1,8,0)\n",
    "print(f\"Tuple count {tup.count(8)}\")\n",
    "print(f\"Tuple index {tup.index(1)}\")"
   ]
  },
  {
   "cell_type": "code",
   "execution_count": 34,
   "id": "b6015441",
   "metadata": {},
   "outputs": [
    {
     "data": {
      "text/plain": [
       "{'brand': 'Ford', 'model': 'Mustang', 'year': 1964}"
      ]
     },
     "execution_count": 34,
     "metadata": {},
     "output_type": "execute_result"
    }
   ],
   "source": [
    "# Dictionary\n",
    "\n",
    "dict = {\n",
    "  \"brand\": \"Ford\",\n",
    "  \"model\": \"Mustang\",\n",
    "  \"year\": 1964\n",
    "}\n",
    "\n",
    "dict.get(\"brand\")\n",
    "dict[\"model\"]\n",
    "\n",
    "\n",
    "dict1 = dict.copy()\n",
    "dict1\n",
    "\n"
   ]
  },
  {
   "cell_type": "code",
   "execution_count": 48,
   "id": "50c28319",
   "metadata": {},
   "outputs": [
    {
     "name": "stdout",
     "output_type": "stream",
     "text": [
      "hello this\n"
     ]
    },
    {
     "data": {
      "text/plain": [
       "['hello', 'this', 'is', 'you', 'co-ordinator']"
      ]
     },
     "execution_count": 48,
     "metadata": {},
     "output_type": "execute_result"
    }
   ],
   "source": [
    "# String\n",
    "\n",
    "string = \"hello this is you co-ordinator\"\n",
    "\n",
    "string.capitalize()\n",
    "string.upper()\n",
    "\n",
    "print(string[0:5],string[6:10])\n",
    "\n",
    "string.split(\" \")"
   ]
  },
  {
   "cell_type": "code",
   "execution_count": 62,
   "id": "58d1d57b",
   "metadata": {},
   "outputs": [
    {
     "name": "stdout",
     "output_type": "stream",
     "text": [
      "odd\n",
      "9\n",
      "3\n"
     ]
    }
   ],
   "source": [
    "# Lambda function\n",
    "\n",
    "even_or_odd= lambda number : \"even\" if(number % 2 == 0) else \"odd\"\n",
    "print(even_or_odd(5))\n",
    "\n",
    "\n",
    "square = lambda number : number ** 2\n",
    "print(square(3))\n",
    "\n",
    "max_num = lambda num1,num2 : num1 if(num1 > num2) else num2 \n",
    "print(max_num(2,3))"
   ]
  },
  {
   "cell_type": "code",
   "execution_count": 11,
   "id": "1e668e36",
   "metadata": {},
   "outputs": [
    {
     "name": "stdout",
     "output_type": "stream",
     "text": [
      "Addition Operation has started.\n",
      "The result from the function is stored.\n",
      "Addition Operation Completed.\n"
     ]
    },
    {
     "data": {
      "text/plain": [
       "9"
      ]
     },
     "execution_count": 11,
     "metadata": {},
     "output_type": "execute_result"
    }
   ],
   "source": [
    "# Decorators\n",
    "\n",
    "def greet(func):\n",
    "    def modified_func(*args, **kwargs):\n",
    "        print(\"Addition Operation has started.\")\n",
    "        result = func(*args, **kwargs)\n",
    "        print(\"The result from the function is stored.\")\n",
    "        print(\"Addition Operation Completed.\")\n",
    "        return result\n",
    "    return modified_func\n",
    "\n",
    "@greet\n",
    "def add(a, b):\n",
    "    return a + b\n",
    "add(5,4)"
   ]
  },
  {
   "cell_type": "code",
   "execution_count": 12,
   "id": "d86e061a",
   "metadata": {},
   "outputs": [
    {
     "name": "stdout",
     "output_type": "stream",
     "text": [
      "My name is Rodger\n",
      "My name is Tommy\n"
     ]
    }
   ],
   "source": [
    "# OOPS class and object\n",
    "\n",
    "class Dog:\n",
    "    def __init__(self,name):\n",
    "        self.name=name\n",
    "        \n",
    "    def speak(self):\n",
    "        print(f\"My name is {self.name}\")\n",
    "\n",
    "Rodger = Dog(\"Rodger\")\n",
    "Tommy = Dog(\"Tommy\")\n",
    "\n",
    "Rodger.speak()\n",
    "Tommy.speak()\n",
    "        "
   ]
  },
  {
   "cell_type": "code",
   "execution_count": 23,
   "id": "b51fbec0",
   "metadata": {},
   "outputs": [
    {
     "name": "stdout",
     "output_type": "stream",
     "text": [
      "Argha\n",
      "878656\n",
      "My name is Argha\n",
      "My idnumber is 878656\n",
      "My post is Intern\n"
     ]
    }
   ],
   "source": [
    "# OOPS Simple Inheritance\n",
    "\n",
    "class Person:\n",
    "    def __init__(self,name,idnumber):\n",
    "        self.name=name\n",
    "        self.idnumber=idnumber\n",
    "        \n",
    "    def display(self):\n",
    "        print(self.name)\n",
    "        print(self.idnumber)\n",
    "        \n",
    "    def details(self):\n",
    "        print(f\"My name is {self.name}\")\n",
    "        print(f\"MY idnumber is {self.idnumber}\")\n",
    "        \n",
    "        \n",
    "class Employee(Person):\n",
    "    def __init__(self,name, idnumber, salary, post):\n",
    "        self.salary=salary\n",
    "        self.post=post\n",
    "        Person.__init__(self,name,idnumber)\n",
    "        \n",
    "    def details(self):\n",
    "        print(f\"My name is {self.name}\")\n",
    "        print(f\"My idnumber is {self.idnumber}\")\n",
    "        print(f\"My post is {self.post}\")\n",
    "        \n",
    "emp = Employee(\"Argha\",878656,20000,\"Intern\")\n",
    "\n",
    "emp.display()\n",
    "emp.details()"
   ]
  },
  {
   "cell_type": "code",
   "execution_count": 24,
   "id": "022a2703",
   "metadata": {},
   "outputs": [
    {
     "name": "stdout",
     "output_type": "stream",
     "text": [
      "Doors are 4\n",
      "Windows are 4\n",
      "Engine is Diesel\n",
      "Horsepower is 6000\n",
      "Wheels are 4\n",
      "Model is Audi\n"
     ]
    }
   ],
   "source": [
    "# OOPS Multiple inheritance\n",
    "\n",
    "class Body:\n",
    "    def __init__(self, doors, windows):\n",
    "        self.doors = doors\n",
    "        self.windows = windows\n",
    "    \n",
    "    def body_details(self):\n",
    "        print(f\"Doors are {self.doors}\")\n",
    "        print(f\"Windows are {self.windows}\")\n",
    "        \n",
    "class Mechanics:\n",
    "    def __init__(self, engine, horsepower, wheels):\n",
    "        self.engine =engine\n",
    "        self.horsepower=horsepower\n",
    "        self.wheels=wheels\n",
    "        \n",
    "    def mechanics_details(self):\n",
    "        print(f\"Engine is {self.engine}\")\n",
    "        print(f\"Horsepower is {self.horsepower}\")\n",
    "        print(f\"Wheels are {self.wheels}\")\n",
    "        \n",
    "class Car(Body,Mechanics):\n",
    "    def __init__(self,doors,windows,engine,horsepower,wheels,model):\n",
    "        self.model=model\n",
    "        Body.__init__(self,doors, windows)\n",
    "        Mechanics.__init__(self, engine, horsepower, wheels)\n",
    "        \n",
    "    def car_details(self):\n",
    "        print(f\"Doors are {self.doors}\")\n",
    "        print(f\"Windows are {self.windows}\")\n",
    "        print(f\"Engine is {self.engine}\")\n",
    "        print(f\"Horsepower is {self.horsepower}\")\n",
    "        print(f\"Wheels are {self.wheels}\")\n",
    "        print(f\"Model is {self.model}\")\n",
    "\n",
    "        \n",
    "car = Car(4,4,\"Diesel\",6000,4,\"Audi\")\n",
    "\n",
    "car.car_details()\n",
    "        "
   ]
  },
  {
   "cell_type": "code",
   "execution_count": 29,
   "id": "7f1eb783",
   "metadata": {},
   "outputs": [
    {
     "name": "stdout",
     "output_type": "stream",
     "text": [
      "Engine is Diesel\n",
      "Horsepower is 6000\n",
      "Wheels are 4\n",
      "Doors are 4\n",
      "Windows are 4\n"
     ]
    }
   ],
   "source": [
    "# OOPS Multilevel Inheritance\n",
    "\n",
    "class Body:\n",
    "    def __init__(self, doors, windows):\n",
    "        self.doors = doors\n",
    "        self.windows = windows\n",
    "    \n",
    "    def body_details(self):\n",
    "        print(f\"Doors are {self.doors}\")\n",
    "        print(f\"Windows are {self.windows}\")\n",
    "        \n",
    "class Mechanics(Body):\n",
    "    def __init__(self, doors, windows, engine, horsepower, wheels):\n",
    "        self.engine =engine\n",
    "        self.horsepower=horsepower\n",
    "        self.wheels=wheels\n",
    "        Body.__init__(self,doors,windows)\n",
    "        \n",
    "    def mechanics_details(self):\n",
    "        print(f\"Engine is {self.engine}\")\n",
    "        print(f\"Horsepower is {self.horsepower}\")\n",
    "        print(f\"Wheels are {self.wheels}\")\n",
    "        \n",
    "class Car(Mechanics):\n",
    "    def __init__(self,doors,windows,engine,horsepower,wheels,model):\n",
    "        self.model=model\n",
    "        Mechanics.__init__(self, doors, windows, engine, horsepower, wheels)\n",
    "        \n",
    "    def car_details(self):\n",
    "        print(f\"Doors are {self.doors}\")\n",
    "        print(f\"Windows are {self.windows}\")\n",
    "        print(f\"Engine is {self.engine}\")\n",
    "        print(f\"Horsepower is {self.horsepower}\")\n",
    "        print(f\"Wheels are {self.wheels}\")\n",
    "        print(f\"Model is {self.model}\")\n",
    "\n",
    "        \n",
    "car = Car(4,4,\"Diesel\",6000,4,\"Audi\")\n",
    "\n",
    "#car.car_details()\n",
    "car.mechanics_details()\n",
    "car.body_details()\n",
    "        "
   ]
  },
  {
   "cell_type": "code",
   "execution_count": 30,
   "id": "2dc1ef41",
   "metadata": {},
   "outputs": [
    {
     "name": "stdout",
     "output_type": "stream",
     "text": [
      "There are many types of birds.\n",
      "Most of the birds can fly and some cannot.\n",
      "There are many types of birds.\n",
      "Sparrows can fly.\n",
      "There are many types of birds.\n",
      "Ostrich cannot fly.\n"
     ]
    }
   ],
   "source": [
    "# OOPS Polymorphism\n",
    "\n",
    "class Bird:\n",
    "    def intro(self):\n",
    "        print(\"There are many types of birds.\")\n",
    "        \n",
    "    def flight(self):\n",
    "        print(\"Most of the birds can fly and some cannot.\")\n",
    "        \n",
    "class Sparrow(Bird):\n",
    "    def flight(self):\n",
    "        print(\"Sparrows can fly.\")\n",
    "        \n",
    "class Ostrich(Bird):\n",
    "    def flight(self):\n",
    "        print(\"Ostrich cannot fly.\")\n",
    "        \n",
    "obj_bird = Bird()\n",
    "obj_sparrow = Sparrow()\n",
    "obj_ostrich = Ostrich()\n",
    "\n",
    "obj_bird.intro()\n",
    "obj_bird.flight()\n",
    "\n",
    "obj_sparrow.intro()\n",
    "obj_sparrow.flight()\n",
    "\n",
    "obj_ostrich.intro()\n",
    "obj_ostrich.flight()"
   ]
  },
  {
   "cell_type": "code",
   "execution_count": 32,
   "id": "e4872492",
   "metadata": {},
   "outputs": [
    {
     "name": "stdout",
     "output_type": "stream",
     "text": [
      "* * * * * \n",
      "* * * * * \n",
      "* * * * * \n",
      "* * * * * \n",
      "* * * * * \n"
     ]
    }
   ],
   "source": [
    "# Square pattern\n",
    "\n",
    "n=5\n",
    "for i in range(n):\n",
    "    for j in range(n):\n",
    "        print(\"*\",end=\" \")\n",
    "    print()"
   ]
  },
  {
   "cell_type": "code",
   "execution_count": 34,
   "id": "e65d48a0",
   "metadata": {},
   "outputs": [
    {
     "name": "stdout",
     "output_type": "stream",
     "text": [
      "*\n",
      "**\n",
      "***\n",
      "****\n",
      "*****\n"
     ]
    }
   ],
   "source": [
    "# Right Angled Triangle Pattern\n",
    "\n",
    "n=5\n",
    "for i in range(n):\n",
    "    for j in range(i+1):\n",
    "        print(\"*\", end=\"\")\n",
    "    print()"
   ]
  },
  {
   "cell_type": "code",
   "execution_count": 38,
   "id": "d16702dd",
   "metadata": {},
   "outputs": [
    {
     "name": "stdout",
     "output_type": "stream",
     "text": [
      "     *\n",
      "    **\n",
      "   ***\n",
      "  ****\n",
      " *****\n"
     ]
    }
   ],
   "source": [
    "# Mirrored Right Angled Triangle Pattern\n",
    "\n",
    "n=5\n",
    "for i in range(n):\n",
    "    for j in range(i,n):\n",
    "        print(\" \", end=\"\")\n",
    "    for j in range(i+1):\n",
    "        print(\"*\",end=\"\")\n",
    "    print()"
   ]
  },
  {
   "cell_type": "code",
   "execution_count": 39,
   "id": "7a0f757b",
   "metadata": {},
   "outputs": [
    {
     "name": "stdout",
     "output_type": "stream",
     "text": [
      "*****\n",
      "****\n",
      "***\n",
      "**\n",
      "*\n"
     ]
    }
   ],
   "source": [
    "# Decreasing Right Angled Triangle\n",
    "\n",
    "n=5\n",
    "for i in range(n):\n",
    "    for j in range(i,n):\n",
    "        print(\"*\",end=\"\")\n",
    "    print()"
   ]
  },
  {
   "cell_type": "code",
   "execution_count": 42,
   "id": "d423f12a",
   "metadata": {},
   "outputs": [
    {
     "name": "stdout",
     "output_type": "stream",
     "text": [
      "*****\n",
      " ****\n",
      "  ***\n",
      "   **\n",
      "    *\n"
     ]
    }
   ],
   "source": [
    "# Mirrored Decreasing Right Angled Triangle PAttern\n",
    "\n",
    "n=5\n",
    "for i in range(n):\n",
    "    for j in range(i):\n",
    "        print(\" \",end=\"\")\n",
    "    for j in range(i,n):\n",
    "        print(\"*\",end=\"\")\n",
    "    print()\n"
   ]
  },
  {
   "cell_type": "code",
   "execution_count": 62,
   "id": "d6728998",
   "metadata": {},
   "outputs": [
    {
     "name": "stdout",
     "output_type": "stream",
     "text": [
      "     *\n",
      "    ***\n",
      "   *****\n",
      "  *******\n",
      " *********\n"
     ]
    }
   ],
   "source": [
    "# Pyramid Pattern\n",
    "\n",
    "n=5\n",
    "for i in range(n):\n",
    "    for j in range(i,n):\n",
    "        print(\" \",end=\"\")\n",
    "    for j in range(i):\n",
    "        print(\"*\",end=\"\")\n",
    "    for j in range(i+1):\n",
    "        print(\"*\",end=\"\")\n",
    "    print()"
   ]
  },
  {
   "cell_type": "code",
   "execution_count": 69,
   "id": "065dcc36",
   "metadata": {},
   "outputs": [
    {
     "name": "stdout",
     "output_type": "stream",
     "text": [
      " *********\n",
      "  *******\n",
      "   *****\n",
      "    ***\n",
      "     *\n"
     ]
    }
   ],
   "source": [
    "# Decreasing Pyramid Pattern\n",
    "\n",
    "n=5\n",
    "for i in range(n):\n",
    "    for j in range(i+1):\n",
    "        print(\" \",end=\"\")\n",
    "    for j in range(i,n-1):\n",
    "        print(\"*\",end=\"\")\n",
    "    for j in range(i,n):\n",
    "        print(\"*\",end=\"\")\n",
    "    print()\n",
    "        "
   ]
  },
  {
   "cell_type": "code",
   "execution_count": 92,
   "id": "9361a056",
   "metadata": {},
   "outputs": [
    {
     "name": "stdout",
     "output_type": "stream",
     "text": [
      "          *\n",
      "         ***\n",
      "        *****\n",
      "       *******\n",
      "      *********\n",
      "     ***********\n",
      "    *************\n",
      "   ***************\n",
      "  *****************\n",
      " *******************\n",
      "  *****************\n",
      "   ***************\n",
      "    *************\n",
      "     ***********\n",
      "      *********\n",
      "       *******\n",
      "        *****\n",
      "         ***\n",
      "          *\n"
     ]
    }
   ],
   "source": [
    "# Diamond Pattern\n",
    "\n",
    "n=10\n",
    "for i in range(n-1):\n",
    "    for j in range(i,n):\n",
    "        print(\" \",end=\"\")\n",
    "    for j in range(i):\n",
    "        print(\"*\",end=\"\")\n",
    "    for j in range(i+1):\n",
    "        print(\"*\",end=\"\")\n",
    "    print()\n",
    "for i in range(n):\n",
    "    for j in range(i+1):\n",
    "        print(\" \",end=\"\")\n",
    "    for j in range(i,n-1):\n",
    "        print(\"*\",end=\"\")\n",
    "    for j in range(i,n):\n",
    "        print(\"*\",end=\"\")\n",
    "    print()"
   ]
  },
  {
   "cell_type": "code",
   "execution_count": 102,
   "id": "1dce5ae7",
   "metadata": {},
   "outputs": [
    {
     "name": "stdout",
     "output_type": "stream",
     "text": [
      "1\n",
      "33\n",
      "555\n",
      "7777\n",
      "99999\n"
     ]
    }
   ],
   "source": [
    "n=5\n",
    "p=1\n",
    "for i in range(n):\n",
    "    if (i==0):\n",
    "        p=1\n",
    "    else:\n",
    "        p +=2\n",
    "    for j in range(i+1):\n",
    "        print(p,end=\"\")\n",
    "    print()"
   ]
  },
  {
   "cell_type": "code",
   "execution_count": 108,
   "id": "5e45670a",
   "metadata": {},
   "outputs": [
    {
     "name": "stdout",
     "output_type": "stream",
     "text": [
      "     1\n",
      "    222\n",
      "   33333\n",
      "  4444444\n",
      " 555555555\n"
     ]
    }
   ],
   "source": [
    "n=5\n",
    "p=1\n",
    "for i in range(n):\n",
    "    for j in range(i,n):\n",
    "        print(\" \",end=\"\")\n",
    "    for j in range(i):\n",
    "        print(p,end=\"\")\n",
    "    for j in range(i+1):\n",
    "        print(p,end=\"\")\n",
    "    p=p+1\n",
    "    print()"
   ]
  },
  {
   "cell_type": "code",
   "execution_count": 117,
   "id": "20cb94ff",
   "metadata": {},
   "outputs": [
    {
     "name": "stdout",
     "output_type": "stream",
     "text": [
      "     1\n",
      "    121\n",
      "   12321\n",
      "  1234321\n",
      " 123454321\n"
     ]
    }
   ],
   "source": [
    "n=5\n",
    "p=1\n",
    "for i in range(n):\n",
    "    for j in range(i,n):\n",
    "        print(\" \",end=\"\")\n",
    "    for j in range(i):\n",
    "        print(p,end=\"\")\n",
    "        p+=1\n",
    "    for j in range(i+1):\n",
    "        print(p,end=\"\")\n",
    "        p=p-1\n",
    "    p+=1\n",
    "    print()"
   ]
  },
  {
   "cell_type": "code",
   "execution_count": null,
   "id": "fbb593c5",
   "metadata": {},
   "outputs": [],
   "source": []
  },
  {
   "cell_type": "code",
   "execution_count": null,
   "id": "3133dbdb",
   "metadata": {},
   "outputs": [],
   "source": []
  }
 ],
 "metadata": {
  "kernelspec": {
   "display_name": "Python 3 (ipykernel)",
   "language": "python",
   "name": "python3"
  },
  "language_info": {
   "codemirror_mode": {
    "name": "ipython",
    "version": 3
   },
   "file_extension": ".py",
   "mimetype": "text/x-python",
   "name": "python",
   "nbconvert_exporter": "python",
   "pygments_lexer": "ipython3",
   "version": "3.9.12"
  }
 },
 "nbformat": 4,
 "nbformat_minor": 5
}
